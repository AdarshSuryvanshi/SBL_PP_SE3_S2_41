{
 "cells": [
  {
   "cell_type": "markdown",
   "id": "844428c4-0c25-43fd-8626-3026f88f21b4",
   "metadata": {},
   "source": [
    "### Adarsh Anil Suryvanshi\n",
    "### Roll no 41"
   ]
  },
  {
   "cell_type": "code",
   "execution_count": 3,
   "id": "89d0e670-14a6-42fb-8e6e-6c6c93b523f1",
   "metadata": {},
   "outputs": [
    {
     "name": "stdout",
     "output_type": "stream",
     "text": [
      "My name is Adarsh Suryvanshi .\n",
      "\n",
      "My name is Adarsh Suryvanshi .\n",
      "I am Doing Pyhton Experiment .\n",
      "\n"
     ]
    }
   ],
   "source": [
    "from contextlib import contextmanager\n",
    "\n",
    "@contextmanager\n",
    "def genericFileFunction(filename, method):\n",
    "    file = open(filename, method)\n",
    "    yield file\n",
    "    file.close()\n",
    "\n",
    "if __name__ == '__main__':\n",
    "    \n",
    "    with genericFileFunction(\"example.txt\", \"w\") as file:\n",
    "        file.write(\"My name is Adarsh Suryvanshi .\\n\")\n",
    "\n",
    "    with genericFileFunction(\"example.txt\", \"r\") as file:\n",
    "        read_file = file.read()\n",
    " \n",
    "    with genericFileFunction(\"example.txt\", \"a\") as file:\n",
    "        file.write(\"I am Doing Pyhton Experiment .\\n\")\n",
    "\n",
    "    with genericFileFunction(\"example.txt\", \"r\") as file:\n",
    "        append_content = file.read()\n",
    "\n",
    "\n",
    "    print(read_file)\n",
    "    print(append_content)"
   ]
  },
  {
   "cell_type": "code",
   "execution_count": null,
   "id": "658904d0-3c65-47ff-9985-4731e4bc7926",
   "metadata": {},
   "outputs": [],
   "source": []
  }
 ],
 "metadata": {
  "kernelspec": {
   "display_name": "Python [conda env:base] *",
   "language": "python",
   "name": "conda-base-py"
  },
  "language_info": {
   "codemirror_mode": {
    "name": "ipython",
    "version": 3
   },
   "file_extension": ".py",
   "mimetype": "text/x-python",
   "name": "python",
   "nbconvert_exporter": "python",
   "pygments_lexer": "ipython3",
   "version": "3.12.7"
  }
 },
 "nbformat": 4,
 "nbformat_minor": 5
}
