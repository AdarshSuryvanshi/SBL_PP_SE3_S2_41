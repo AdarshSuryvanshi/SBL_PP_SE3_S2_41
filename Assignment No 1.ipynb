{
  "nbformat": 4,
  "nbformat_minor": 0,
  "metadata": {
    "colab": {
      "provenance": []
    },
    "kernelspec": {
      "name": "python3",
      "display_name": "Python 3"
    },
    "language_info": {
      "name": "python"
    }
  },
  "cells": [
    {
      "cell_type": "code",
      "source": [
        "class Product:\n",
        "    def __init__(self, name, price, stock):\n",
        "        self.name = name\n",
        "        self.price = price\n",
        "        self.stock = stock\n",
        "\n",
        "    def update_stock(self, quantity):\n",
        "        print(f\"Choose your task for stock update with {quantity}:\")\n",
        "        choice = int(input(\"Enter your choice:\\n1. Add\\n2. Remove\\nChoice: \"))\n",
        "\n",
        "        if choice == 1:\n",
        "            self.stock += quantity\n",
        "            print(f\"Stock updated successfully! New total stock: {self.stock}\")\n",
        "\n",
        "        elif choice == 2:\n",
        "            if quantity > self.stock:\n",
        "                print(\"Error: Not enough stock to remove.\")\n",
        "            else:\n",
        "                self.stock -= quantity\n",
        "                print(f\"Stock successfully removed! New total stock: {self.stock}\")\n",
        "\n",
        "        else:\n",
        "            print(\"Invalid choice! Please enter 1 or 2.\")\n",
        "\n",
        "    def update_price(self, new_price):\n",
        "        self.price = new_price\n",
        "        print(f\"Price updated successfully! New price: {self.price}\")\n",
        "\n",
        "    def __str__(self):\n",
        "        return f\"Product Name: {self.name}\\nPrice: {self.price}\\nTotal Stock: {self.stock}\"\n",
        "\n",
        "if __name__ == '__main__':\n",
        "    name = input(\"Enter the product name: \")\n",
        "    price = float(input(\"Enter the price of the product: \"))\n",
        "    stock = int(input(\"Enter the current stock: \"))\n",
        "\n",
        "    P1 = Product(name, price, stock)\n",
        "\n",
        "    while True:\n",
        "        print(\"\\nChoose an option:\\n1. View Product Details\\n2. Update Stock\\n3. Update Price\\n4. Exit\")\n",
        "        choice = int(input(\"Enter your choice: \"))\n",
        "\n",
        "        if choice == 1:\n",
        "            print(P1)\n",
        "\n",
        "        elif choice == 2:\n",
        "            quantity = int(input(\"Enter the quantity to add/remove: \"))\n",
        "            P1.update_stock(quantity)\n",
        "\n",
        "        elif choice == 3:\n",
        "            new_price = float(input(\"Enter the new price: \"))\n",
        "            P1.update_price(new_price)\n",
        "\n",
        "        elif choice == 4:\n",
        "            print(\"Exiting program.\")\n",
        "            break\n",
        "\n",
        "        else:\n",
        "            print(\"Invalid choice! Please try again.\")\n"
      ],
      "metadata": {
        "colab": {
          "base_uri": "https://localhost:8080/"
        },
        "id": "zGj3bdGGkT7T",
        "outputId": "7aa9a057-ea37-4f77-dfde-d58dbb723a6c"
      },
      "execution_count": 1,
      "outputs": [
        {
          "output_type": "stream",
          "name": "stdout",
          "text": [
            "Enter the product name: Laptop\n",
            "Enter the price of the product: 1000\n",
            "Enter the current stock: 50\n",
            "\n",
            "Choose an option:\n",
            "1. View Product Details\n",
            "2. Update Stock\n",
            "3. Update Price\n",
            "4. Exit\n",
            "Enter your choice: 1\n",
            "Product Name: Laptop\n",
            "Price: 1000.0\n",
            "Total Stock: 50\n",
            "\n",
            "Choose an option:\n",
            "1. View Product Details\n",
            "2. Update Stock\n",
            "3. Update Price\n",
            "4. Exit\n",
            "Enter your choice: 2\n",
            "Enter the quantity to add/remove: 10\n",
            "Choose your task for stock update with 10:\n",
            "Enter your choice:\n",
            "1. Add\n",
            "2. Remove\n",
            "Choice: 2\n",
            "Stock successfully removed! New total stock: 40\n",
            "\n",
            "Choose an option:\n",
            "1. View Product Details\n",
            "2. Update Stock\n",
            "3. Update Price\n",
            "4. Exit\n",
            "Enter your choice: 3\n",
            "Enter the new price: 50000\n",
            "Price updated successfully! New price: 50000.0\n",
            "\n",
            "Choose an option:\n",
            "1. View Product Details\n",
            "2. Update Stock\n",
            "3. Update Price\n",
            "4. Exit\n",
            "Enter your choice: 4\n",
            "Exiting program.\n"
          ]
        }
      ]
    },
    {
      "cell_type": "code",
      "source": [],
      "metadata": {
        "id": "LhLhvcR_ku00"
      },
      "execution_count": null,
      "outputs": []
    }
  ]
}